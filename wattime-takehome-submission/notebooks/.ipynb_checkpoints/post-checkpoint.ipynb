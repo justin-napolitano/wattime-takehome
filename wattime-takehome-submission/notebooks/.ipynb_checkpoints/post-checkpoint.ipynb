{
 "cells": [
  {
   "cell_type": "markdown",
   "metadata": {},
   "source": [
    "# The Climate impacts of Rice Cultivation."
   ]
  },
  {
   "cell_type": "markdown",
   "metadata": {},
   "source": [
    "## Intro"
   ]
  },
  {
   "cell_type": "markdown",
   "metadata": {},
   "source": [
    "According to the United Nations Environment Program \"methane is the primary contributor to the formation of ground-level ozone.\" Over 20 years, \"it is 80 times more potent at warming than carbon dioxide.\" a hazardous air pollutant and greenhouse gas, exposure to which causes 1 million premature deaths every year. Methane is also a powerful greenhouse gas. Over a 20-year period, it is 80 times more potent at warming than carbon dioxide [(UNEP)](https://www.unep.org/news-and-stories/story/methane-emissions-are-driving-climate-change-heres-how-reduce-them).  In fact, one kilogram of CH4 produced is equivalent to 25 kilograms of CO2.[(Econometra)[https://ecometrica.com/assets/GHGs-CO2-CO2e-and-Carbon-What-Do-These-Mean-v2.1.pdf].  \n",
    "\n",
    "The agricultural industry is the primary producer of methane emissions globally.  While the cattle industry is a well known culprit, paddy rice cultivation – in which flooded fields prevent oxygen from penetrating the soil, creating ideal conditions for methane-emitting bacteria – accounts for another 8 per cent of human-linked emissions.[source](https://www.unep.org/news-and-stories/story/methane-emissions-are-driving-climate-change-heres-how-reduce-them).  This equates to an average insert equivalency here to rice cultivation.  \n"
   ]
  },
  {
   "cell_type": "markdown",
   "metadata": {},
   "source": [
    "## Measuring Paddy Rice CH4 Emissions"
   ]
  },
  {
   "cell_type": "markdown",
   "metadata": {},
   "source": [
    "FAOStat (insert source here ) is the leading provider of ch4 emissions released by industrial agrictulture.  They estimate emissions by multiplying reported hectares of cultivated land by a conversion factor of (insert here).  \n",
    "\n",
    "TRACE on the other hand estimates emissions levels by calculating the area of cultivated paddies with Satalite imaging at 500 meters and multiplying that number by a different conversion factor.   On average this results in 26,963 tonnes or 67,4075 Tonnes CO2eq of undercounted CH4 emissions annually according to TRACE.  \n",
    "\n",
    "It is important to note that both organizations rely on data that may not account for every parcel of land in cultivation.  FAOSTAT relies on government reported values that may be manipulated to increase assistance from Non governmental organizations and foreign governments.  TRACE data may not accurately capture small fields or paddies at high elevation due to limitted specificity(not the word i want but it will come back to me) of satellite images.  \n"
   ]
  },
  {
   "cell_type": "markdown",
   "metadata": {},
   "source": [
    "## The Data"
   ]
  },
  {
   "cell_type": "code",
   "execution_count": 4,
   "metadata": {
    "tags": [
     "hide-cell"
    ]
   },
   "outputs": [],
   "source": [
    "import pandas as pd\n",
    "import matplotlib.pyplot as plt\n",
    "import geopandas as gpd\n",
    "import folium\n",
    "import contextily as cx\n",
    "from shapely.geometry import Point, LineString, Polygon\n",
    "import numpy as np\n",
    "from scipy.spatial import cKDTree\n",
    "from geopy.distance import distance\n",
    "import scipy.stats as stats\n"
   ]
  },
  {
   "cell_type": "code",
   "execution_count": null,
   "metadata": {},
   "outputs": [],
   "source": [
    "###"
   ]
  }
 ],
 "metadata": {
  "kernelspec": {
   "display_name": "venv",
   "language": "python",
   "name": "venv"
  },
  "language_info": {
   "codemirror_mode": {
    "name": "ipython",
    "version": 3
   },
   "file_extension": ".py",
   "mimetype": "text/x-python",
   "name": "python",
   "nbconvert_exporter": "python",
   "pygments_lexer": "ipython3",
   "version": "3.9.12"
  }
 },
 "nbformat": 4,
 "nbformat_minor": 4
}
