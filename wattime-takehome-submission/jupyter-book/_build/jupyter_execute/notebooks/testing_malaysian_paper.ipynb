{
 "cells": [
  {
   "cell_type": "markdown",
   "metadata": {},
   "source": [
    "# Hypothesis Testing the University of Malaysia Paper"
   ]
  },
  {
   "cell_type": "markdown",
   "metadata": {},
   "source": [
    "## Claims\n",
    "\n",
    "* That the distributions do not differ between 2020 and 2019\n",
    "* That the means do no differ between 2020 and 2019"
   ]
  },
  {
   "cell_type": "markdown",
   "metadata": {},
   "source": [
    "## What will be testing.  \n",
    "\n",
    "* That the Data are independent and evenly distributed: Test for normality\n",
    "    * Shapiro-Wilk Test\n",
    "* That the means between 2019 and 2020 do not differ: Parametric Statistical Hypothesis Tests\n",
    "    * T Test because we have less than 25 observations\n",
    "* If nonparametirc: That the distributions between 2019 and 2020 do not differ\n",
    "    Mann-Whitney U Test\n",
    "\n"
   ]
  },
  {
   "cell_type": "markdown",
   "metadata": {},
   "source": [
    "## Data Import"
   ]
  },
  {
   "cell_type": "code",
   "execution_count": 1,
   "metadata": {},
   "outputs": [],
   "source": [
    "import pandas as pd\n",
    "import matplotlib.pyplot as plt\n",
    "import numpy as np\n",
    "import scipy.stats as stats\n"
   ]
  },
  {
   "cell_type": "code",
   "execution_count": 2,
   "metadata": {},
   "outputs": [],
   "source": [
    "filepath = \"/Users/jnapolitano/Projects/wattime-takehome/data/ch4_2015-2021.xlsx\"\n",
    "\n",
    "hypothesis_testing_df = pd.read_excel(filepath)"
   ]
  },
  {
   "cell_type": "markdown",
   "metadata": {},
   "source": [
    "### Drop total row from the data"
   ]
  },
  {
   "cell_type": "code",
   "execution_count": 3,
   "metadata": {},
   "outputs": [],
   "source": [
    "hypothesis_testing_df = hypothesis_testing_df.loc[(hypothesis_testing_df['country_name'] != \"Total\")].copy() #copying to avoid modifying slices in memory.  Old df should also drop from memory in production environment."
   ]
  },
  {
   "cell_type": "code",
   "execution_count": 4,
   "metadata": {},
   "outputs": [
    {
     "data": {
      "text/html": [
       "<div>\n",
       "<style scoped>\n",
       "    .dataframe tbody tr th:only-of-type {\n",
       "        vertical-align: middle;\n",
       "    }\n",
       "\n",
       "    .dataframe tbody tr th {\n",
       "        vertical-align: top;\n",
       "    }\n",
       "\n",
       "    .dataframe thead th {\n",
       "        text-align: right;\n",
       "    }\n",
       "</style>\n",
       "<table border=\"1\" class=\"dataframe\">\n",
       "  <thead>\n",
       "    <tr style=\"text-align: right;\">\n",
       "      <th></th>\n",
       "      <th>iso3_country</th>\n",
       "      <th>country_name</th>\n",
       "      <th>tCH4_2015</th>\n",
       "      <th>tCH4_2016</th>\n",
       "      <th>tCH4_2017</th>\n",
       "      <th>tCH4_2018</th>\n",
       "      <th>tCH4_2019</th>\n",
       "      <th>tCH4_2020</th>\n",
       "      <th>tCH4_2021</th>\n",
       "    </tr>\n",
       "  </thead>\n",
       "  <tbody>\n",
       "    <tr>\n",
       "      <th>0</th>\n",
       "      <td>BGD</td>\n",
       "      <td>Bangladesh</td>\n",
       "      <td>2.344420e+06</td>\n",
       "      <td>2.278158e+06</td>\n",
       "      <td>2.098958e+06</td>\n",
       "      <td>2.141231e+06</td>\n",
       "      <td>2.070985e+06</td>\n",
       "      <td>2.106781e+06</td>\n",
       "      <td>1.983974e+06</td>\n",
       "    </tr>\n",
       "    <tr>\n",
       "      <th>1</th>\n",
       "      <td>BRA</td>\n",
       "      <td>Brazil</td>\n",
       "      <td>3.410233e+05</td>\n",
       "      <td>3.104189e+05</td>\n",
       "      <td>3.725173e+05</td>\n",
       "      <td>3.717030e+05</td>\n",
       "      <td>3.294713e+05</td>\n",
       "      <td>4.902874e+05</td>\n",
       "      <td>4.544874e+05</td>\n",
       "    </tr>\n",
       "    <tr>\n",
       "      <th>2</th>\n",
       "      <td>CHN</td>\n",
       "      <td>China</td>\n",
       "      <td>6.133647e+06</td>\n",
       "      <td>5.859531e+06</td>\n",
       "      <td>6.355071e+06</td>\n",
       "      <td>5.413962e+06</td>\n",
       "      <td>5.603352e+06</td>\n",
       "      <td>6.402353e+06</td>\n",
       "      <td>6.068210e+06</td>\n",
       "    </tr>\n",
       "    <tr>\n",
       "      <th>3</th>\n",
       "      <td>ESP</td>\n",
       "      <td>Spain</td>\n",
       "      <td>1.141464e+04</td>\n",
       "      <td>1.334803e+04</td>\n",
       "      <td>1.217299e+04</td>\n",
       "      <td>1.405410e+04</td>\n",
       "      <td>1.148324e+04</td>\n",
       "      <td>1.305461e+04</td>\n",
       "      <td>8.531579e+03</td>\n",
       "    </tr>\n",
       "    <tr>\n",
       "      <th>4</th>\n",
       "      <td>IDN</td>\n",
       "      <td>Indonesia</td>\n",
       "      <td>1.283649e+06</td>\n",
       "      <td>1.023129e+06</td>\n",
       "      <td>9.615327e+05</td>\n",
       "      <td>1.176982e+06</td>\n",
       "      <td>1.266668e+06</td>\n",
       "      <td>1.188195e+06</td>\n",
       "      <td>1.009936e+06</td>\n",
       "    </tr>\n",
       "    <tr>\n",
       "      <th>5</th>\n",
       "      <td>IND</td>\n",
       "      <td>India</td>\n",
       "      <td>6.219887e+06</td>\n",
       "      <td>5.309413e+06</td>\n",
       "      <td>6.228451e+06</td>\n",
       "      <td>6.589798e+06</td>\n",
       "      <td>7.501556e+06</td>\n",
       "      <td>7.599764e+06</td>\n",
       "      <td>6.567960e+06</td>\n",
       "    </tr>\n",
       "    <tr>\n",
       "      <th>6</th>\n",
       "      <td>IRN</td>\n",
       "      <td>Iran (Islamic Republic of)</td>\n",
       "      <td>8.774407e+04</td>\n",
       "      <td>9.180121e+04</td>\n",
       "      <td>9.620217e+04</td>\n",
       "      <td>8.875744e+04</td>\n",
       "      <td>9.500199e+04</td>\n",
       "      <td>9.600254e+04</td>\n",
       "      <td>9.053525e+04</td>\n",
       "    </tr>\n",
       "    <tr>\n",
       "      <th>7</th>\n",
       "      <td>ITA</td>\n",
       "      <td>Italy</td>\n",
       "      <td>4.995968e+04</td>\n",
       "      <td>4.937785e+04</td>\n",
       "      <td>5.443679e+04</td>\n",
       "      <td>4.469902e+04</td>\n",
       "      <td>4.566914e+04</td>\n",
       "      <td>5.101547e+04</td>\n",
       "      <td>5.089759e+04</td>\n",
       "    </tr>\n",
       "    <tr>\n",
       "      <th>8</th>\n",
       "      <td>JPN</td>\n",
       "      <td>Japan</td>\n",
       "      <td>2.305465e+05</td>\n",
       "      <td>2.284133e+05</td>\n",
       "      <td>2.708935e+05</td>\n",
       "      <td>1.548252e+05</td>\n",
       "      <td>2.332056e+05</td>\n",
       "      <td>2.835167e+05</td>\n",
       "      <td>1.574007e+05</td>\n",
       "    </tr>\n",
       "    <tr>\n",
       "      <th>9</th>\n",
       "      <td>KHM</td>\n",
       "      <td>Cambodia</td>\n",
       "      <td>4.954698e+05</td>\n",
       "      <td>5.731698e+05</td>\n",
       "      <td>4.517045e+05</td>\n",
       "      <td>5.592610e+05</td>\n",
       "      <td>5.947277e+05</td>\n",
       "      <td>6.412802e+05</td>\n",
       "      <td>5.644891e+05</td>\n",
       "    </tr>\n",
       "    <tr>\n",
       "      <th>10</th>\n",
       "      <td>KOR</td>\n",
       "      <td>Korea (the Republic of)</td>\n",
       "      <td>1.451878e+05</td>\n",
       "      <td>1.274597e+05</td>\n",
       "      <td>1.463222e+05</td>\n",
       "      <td>1.293543e+05</td>\n",
       "      <td>1.327782e+05</td>\n",
       "      <td>1.165467e+05</td>\n",
       "      <td>1.013006e+05</td>\n",
       "    </tr>\n",
       "    <tr>\n",
       "      <th>11</th>\n",
       "      <td>LAO</td>\n",
       "      <td>Lao People's Democratic Republic (the)</td>\n",
       "      <td>1.661169e+04</td>\n",
       "      <td>1.696441e+04</td>\n",
       "      <td>1.168063e+04</td>\n",
       "      <td>1.009675e+04</td>\n",
       "      <td>1.461058e+04</td>\n",
       "      <td>2.136270e+04</td>\n",
       "      <td>1.475014e+04</td>\n",
       "    </tr>\n",
       "    <tr>\n",
       "      <th>12</th>\n",
       "      <td>LKA</td>\n",
       "      <td>Sri Lanka</td>\n",
       "      <td>8.305626e+04</td>\n",
       "      <td>1.011743e+05</td>\n",
       "      <td>5.911841e+04</td>\n",
       "      <td>9.018914e+04</td>\n",
       "      <td>8.476088e+04</td>\n",
       "      <td>9.248238e+04</td>\n",
       "      <td>8.466966e+04</td>\n",
       "    </tr>\n",
       "    <tr>\n",
       "      <th>13</th>\n",
       "      <td>MMR</td>\n",
       "      <td>Myanmar</td>\n",
       "      <td>1.132082e+06</td>\n",
       "      <td>1.290806e+06</td>\n",
       "      <td>1.205169e+06</td>\n",
       "      <td>1.372447e+06</td>\n",
       "      <td>1.256888e+06</td>\n",
       "      <td>1.221904e+06</td>\n",
       "      <td>1.289837e+06</td>\n",
       "    </tr>\n",
       "    <tr>\n",
       "      <th>14</th>\n",
       "      <td>MYS</td>\n",
       "      <td>Malaysia</td>\n",
       "      <td>1.057399e+05</td>\n",
       "      <td>1.110049e+05</td>\n",
       "      <td>1.111291e+05</td>\n",
       "      <td>1.066525e+05</td>\n",
       "      <td>1.056287e+05</td>\n",
       "      <td>1.127141e+05</td>\n",
       "      <td>1.069696e+05</td>\n",
       "    </tr>\n",
       "    <tr>\n",
       "      <th>15</th>\n",
       "      <td>NPL</td>\n",
       "      <td>Nepal</td>\n",
       "      <td>1.007479e+05</td>\n",
       "      <td>6.667161e+04</td>\n",
       "      <td>8.081300e+04</td>\n",
       "      <td>9.200752e+04</td>\n",
       "      <td>1.164235e+05</td>\n",
       "      <td>7.168401e+04</td>\n",
       "      <td>4.811408e+04</td>\n",
       "    </tr>\n",
       "    <tr>\n",
       "      <th>16</th>\n",
       "      <td>PAK</td>\n",
       "      <td>Pakistan</td>\n",
       "      <td>4.852431e+05</td>\n",
       "      <td>5.945922e+05</td>\n",
       "      <td>5.372641e+05</td>\n",
       "      <td>4.532297e+05</td>\n",
       "      <td>6.528548e+05</td>\n",
       "      <td>6.401201e+05</td>\n",
       "      <td>4.849205e+05</td>\n",
       "    </tr>\n",
       "    <tr>\n",
       "      <th>17</th>\n",
       "      <td>PHL</td>\n",
       "      <td>Philippines (the)</td>\n",
       "      <td>3.432021e+05</td>\n",
       "      <td>4.073554e+05</td>\n",
       "      <td>3.836830e+05</td>\n",
       "      <td>4.175210e+05</td>\n",
       "      <td>3.584550e+05</td>\n",
       "      <td>4.462836e+05</td>\n",
       "      <td>4.383270e+05</td>\n",
       "    </tr>\n",
       "    <tr>\n",
       "      <th>18</th>\n",
       "      <td>PRK</td>\n",
       "      <td>Korea (the Democratic People's Republic of)</td>\n",
       "      <td>1.143217e+05</td>\n",
       "      <td>9.177653e+04</td>\n",
       "      <td>1.085457e+05</td>\n",
       "      <td>8.662578e+04</td>\n",
       "      <td>9.655062e+04</td>\n",
       "      <td>8.581038e+04</td>\n",
       "      <td>7.735988e+04</td>\n",
       "    </tr>\n",
       "    <tr>\n",
       "      <th>19</th>\n",
       "      <td>THA</td>\n",
       "      <td>Thailand</td>\n",
       "      <td>1.393798e+06</td>\n",
       "      <td>1.780993e+06</td>\n",
       "      <td>1.164699e+06</td>\n",
       "      <td>9.166575e+05</td>\n",
       "      <td>1.305046e+06</td>\n",
       "      <td>1.520788e+06</td>\n",
       "      <td>8.528673e+05</td>\n",
       "    </tr>\n",
       "    <tr>\n",
       "      <th>20</th>\n",
       "      <td>TWN</td>\n",
       "      <td>Taiwan (Province of China)</td>\n",
       "      <td>7.866956e+04</td>\n",
       "      <td>8.089149e+04</td>\n",
       "      <td>8.705634e+04</td>\n",
       "      <td>8.138151e+04</td>\n",
       "      <td>8.990870e+04</td>\n",
       "      <td>8.333327e+04</td>\n",
       "      <td>6.619861e+04</td>\n",
       "    </tr>\n",
       "    <tr>\n",
       "      <th>21</th>\n",
       "      <td>USA</td>\n",
       "      <td>United States of America (the)</td>\n",
       "      <td>1.611324e+05</td>\n",
       "      <td>1.618576e+05</td>\n",
       "      <td>1.684799e+05</td>\n",
       "      <td>1.657254e+05</td>\n",
       "      <td>1.691351e+05</td>\n",
       "      <td>1.941455e+05</td>\n",
       "      <td>1.634842e+05</td>\n",
       "    </tr>\n",
       "    <tr>\n",
       "      <th>22</th>\n",
       "      <td>VNM</td>\n",
       "      <td>Viet Nam</td>\n",
       "      <td>1.346013e+06</td>\n",
       "      <td>1.483777e+06</td>\n",
       "      <td>1.406437e+06</td>\n",
       "      <td>1.317455e+06</td>\n",
       "      <td>1.269751e+06</td>\n",
       "      <td>1.374450e+06</td>\n",
       "      <td>1.502787e+06</td>\n",
       "    </tr>\n",
       "  </tbody>\n",
       "</table>\n",
       "</div>"
      ],
      "text/plain": [
       "   iso3_country                                 country_name     tCH4_2015  \\\n",
       "0           BGD                                   Bangladesh  2.344420e+06   \n",
       "1           BRA                                       Brazil  3.410233e+05   \n",
       "2           CHN                                        China  6.133647e+06   \n",
       "3           ESP                                        Spain  1.141464e+04   \n",
       "4           IDN                                    Indonesia  1.283649e+06   \n",
       "5           IND                                        India  6.219887e+06   \n",
       "6           IRN                   Iran (Islamic Republic of)  8.774407e+04   \n",
       "7           ITA                                        Italy  4.995968e+04   \n",
       "8           JPN                                        Japan  2.305465e+05   \n",
       "9           KHM                                     Cambodia  4.954698e+05   \n",
       "10          KOR                      Korea (the Republic of)  1.451878e+05   \n",
       "11          LAO       Lao People's Democratic Republic (the)  1.661169e+04   \n",
       "12          LKA                                    Sri Lanka  8.305626e+04   \n",
       "13          MMR                                      Myanmar  1.132082e+06   \n",
       "14          MYS                                     Malaysia  1.057399e+05   \n",
       "15          NPL                                        Nepal  1.007479e+05   \n",
       "16          PAK                                     Pakistan  4.852431e+05   \n",
       "17          PHL                            Philippines (the)  3.432021e+05   \n",
       "18          PRK  Korea (the Democratic People's Republic of)  1.143217e+05   \n",
       "19          THA                                     Thailand  1.393798e+06   \n",
       "20          TWN                   Taiwan (Province of China)  7.866956e+04   \n",
       "21          USA               United States of America (the)  1.611324e+05   \n",
       "22          VNM                                     Viet Nam  1.346013e+06   \n",
       "\n",
       "       tCH4_2016     tCH4_2017     tCH4_2018     tCH4_2019     tCH4_2020  \\\n",
       "0   2.278158e+06  2.098958e+06  2.141231e+06  2.070985e+06  2.106781e+06   \n",
       "1   3.104189e+05  3.725173e+05  3.717030e+05  3.294713e+05  4.902874e+05   \n",
       "2   5.859531e+06  6.355071e+06  5.413962e+06  5.603352e+06  6.402353e+06   \n",
       "3   1.334803e+04  1.217299e+04  1.405410e+04  1.148324e+04  1.305461e+04   \n",
       "4   1.023129e+06  9.615327e+05  1.176982e+06  1.266668e+06  1.188195e+06   \n",
       "5   5.309413e+06  6.228451e+06  6.589798e+06  7.501556e+06  7.599764e+06   \n",
       "6   9.180121e+04  9.620217e+04  8.875744e+04  9.500199e+04  9.600254e+04   \n",
       "7   4.937785e+04  5.443679e+04  4.469902e+04  4.566914e+04  5.101547e+04   \n",
       "8   2.284133e+05  2.708935e+05  1.548252e+05  2.332056e+05  2.835167e+05   \n",
       "9   5.731698e+05  4.517045e+05  5.592610e+05  5.947277e+05  6.412802e+05   \n",
       "10  1.274597e+05  1.463222e+05  1.293543e+05  1.327782e+05  1.165467e+05   \n",
       "11  1.696441e+04  1.168063e+04  1.009675e+04  1.461058e+04  2.136270e+04   \n",
       "12  1.011743e+05  5.911841e+04  9.018914e+04  8.476088e+04  9.248238e+04   \n",
       "13  1.290806e+06  1.205169e+06  1.372447e+06  1.256888e+06  1.221904e+06   \n",
       "14  1.110049e+05  1.111291e+05  1.066525e+05  1.056287e+05  1.127141e+05   \n",
       "15  6.667161e+04  8.081300e+04  9.200752e+04  1.164235e+05  7.168401e+04   \n",
       "16  5.945922e+05  5.372641e+05  4.532297e+05  6.528548e+05  6.401201e+05   \n",
       "17  4.073554e+05  3.836830e+05  4.175210e+05  3.584550e+05  4.462836e+05   \n",
       "18  9.177653e+04  1.085457e+05  8.662578e+04  9.655062e+04  8.581038e+04   \n",
       "19  1.780993e+06  1.164699e+06  9.166575e+05  1.305046e+06  1.520788e+06   \n",
       "20  8.089149e+04  8.705634e+04  8.138151e+04  8.990870e+04  8.333327e+04   \n",
       "21  1.618576e+05  1.684799e+05  1.657254e+05  1.691351e+05  1.941455e+05   \n",
       "22  1.483777e+06  1.406437e+06  1.317455e+06  1.269751e+06  1.374450e+06   \n",
       "\n",
       "       tCH4_2021  \n",
       "0   1.983974e+06  \n",
       "1   4.544874e+05  \n",
       "2   6.068210e+06  \n",
       "3   8.531579e+03  \n",
       "4   1.009936e+06  \n",
       "5   6.567960e+06  \n",
       "6   9.053525e+04  \n",
       "7   5.089759e+04  \n",
       "8   1.574007e+05  \n",
       "9   5.644891e+05  \n",
       "10  1.013006e+05  \n",
       "11  1.475014e+04  \n",
       "12  8.466966e+04  \n",
       "13  1.289837e+06  \n",
       "14  1.069696e+05  \n",
       "15  4.811408e+04  \n",
       "16  4.849205e+05  \n",
       "17  4.383270e+05  \n",
       "18  7.735988e+04  \n",
       "19  8.528673e+05  \n",
       "20  6.619861e+04  \n",
       "21  1.634842e+05  \n",
       "22  1.502787e+06  "
      ]
     },
     "execution_count": 4,
     "metadata": {},
     "output_type": "execute_result"
    }
   ],
   "source": [
    "hypothesis_testing_df"
   ]
  },
  {
   "cell_type": "markdown",
   "metadata": {},
   "source": [
    "### Test for Normality: Shapiro-Wilk"
   ]
  },
  {
   "cell_type": "markdown",
   "metadata": {},
   "source": [
    "#### 2019"
   ]
  },
  {
   "cell_type": "code",
   "execution_count": 5,
   "metadata": {},
   "outputs": [
    {
     "data": {
      "text/plain": [
       "0     2.070985e+06\n",
       "1     3.294713e+05\n",
       "2     5.603352e+06\n",
       "3     1.148324e+04\n",
       "4     1.266668e+06\n",
       "5     7.501556e+06\n",
       "6     9.500199e+04\n",
       "7     4.566914e+04\n",
       "8     2.332056e+05\n",
       "9     5.947277e+05\n",
       "10    1.327782e+05\n",
       "11    1.461058e+04\n",
       "12    8.476088e+04\n",
       "13    1.256888e+06\n",
       "14    1.056287e+05\n",
       "15    1.164235e+05\n",
       "16    6.528548e+05\n",
       "17    3.584550e+05\n",
       "18    9.655062e+04\n",
       "19    1.305046e+06\n",
       "20    8.990870e+04\n",
       "21    1.691351e+05\n",
       "22    1.269751e+06\n",
       "Name: tCH4_2019, dtype: float64"
      ]
     },
     "execution_count": 5,
     "metadata": {},
     "output_type": "execute_result"
    }
   ],
   "source": [
    "## Selecting Malaysia 2019 Data \n",
    "data_2019 = hypothesis_testing_df['tCH4_2019']\n",
    "data_2019"
   ]
  },
  {
   "cell_type": "code",
   "execution_count": 6,
   "metadata": {},
   "outputs": [
    {
     "name": "stdout",
     "output_type": "stream",
     "text": [
      "stat=0.567, p=0.000\n",
      "Probably not Gaussian\n"
     ]
    }
   ],
   "source": [
    "results = stats.shapiro(data_2019)\n",
    "print('stat=%.3f, p=%.3f' % (results.statistic, results.pvalue))\n",
    "if results.pvalue > 0.05:\n",
    "\tprint('Probably Gaussian')\n",
    "else:\n",
    "\tprint('Probably not Gaussian')"
   ]
  },
  {
   "cell_type": "markdown",
   "metadata": {},
   "source": [
    "##### Results\n",
    "\n",
    "The distribution is not gausian so a non-paremtric test must be completed.  It is not necessary to perform this test on the 2020 data, but I will do so anyways for practice."
   ]
  },
  {
   "cell_type": "markdown",
   "metadata": {},
   "source": [
    "#### 2020"
   ]
  },
  {
   "cell_type": "code",
   "execution_count": 7,
   "metadata": {},
   "outputs": [],
   "source": [
    "## Selecting the Malaysia Data 2020\n",
    "data_2020 = hypothesis_testing_df['tCH4_2020']"
   ]
  },
  {
   "cell_type": "code",
   "execution_count": 8,
   "metadata": {},
   "outputs": [
    {
     "name": "stdout",
     "output_type": "stream",
     "text": [
      "stat=0.565, p=0.000\n",
      "Probably not Gaussian\n"
     ]
    }
   ],
   "source": [
    "results = stats.shapiro(data_2020)\n",
    "print('stat=%.3f, p=%.3f' % (results.statistic, results.pvalue))\n",
    "if results.pvalue > 0.05:\n",
    "\tprint('Probably Gaussian')\n",
    "else:\n",
    "\tprint('Probably not Gaussian')"
   ]
  },
  {
   "cell_type": "markdown",
   "metadata": {},
   "source": [
    "##### Results\n",
    "\n",
    "The 2020 data is not gausian which verifies that we will need to perform a non parmetric test"
   ]
  },
  {
   "cell_type": "markdown",
   "metadata": {},
   "source": [
    "### Independence of Samples.  \n",
    "We have to assume that the samples are independent of each other as we know they are dependent on hecatares.  \n",
    "Though the correlations are rather high this is due to the smiliarity of hectares per year.  Thus the amount of ch4 is similiar\n"
   ]
  },
  {
   "cell_type": "markdown",
   "metadata": {},
   "source": [
    "### Distribution Similiarity"
   ]
  },
  {
   "cell_type": "markdown",
   "metadata": {},
   "source": [
    "#### Mann-Whitney U Test"
   ]
  },
  {
   "cell_type": "code",
   "execution_count": 9,
   "metadata": {},
   "outputs": [
    {
     "name": "stdout",
     "output_type": "stream",
     "text": [
      "stat=266.000, p=0.982\n",
      "Probably the same distribution\n"
     ]
    }
   ],
   "source": [
    "# Example of the Mann-Whitney U Test\n",
    "\n",
    "stat, p = stats.mannwhitneyu(data_2019, data_2020)\n",
    "print('stat=%.3f, p=%.3f' % (stat, p))\n",
    "if p > 0.05:\n",
    "\tprint('Probably the same distribution')\n",
    "else:\n",
    "\tprint('Probably different distributions')"
   ]
  },
  {
   "cell_type": "markdown",
   "metadata": {},
   "source": [
    "### Kruskal Wallis test"
   ]
  },
  {
   "cell_type": "code",
   "execution_count": 10,
   "metadata": {},
   "outputs": [
    {
     "name": "stdout",
     "output_type": "stream",
     "text": [
      "stat=0.001, p=0.974\n",
      "Probably the same distribution\n"
     ]
    }
   ],
   "source": [
    "\n",
    "stat, p = stats.kruskal(data_2019, data_2020)\n",
    "print('stat=%.3f, p=%.3f' % (stat, p))\n",
    "if p > 0.05:\n",
    "\tprint('Probably the same distribution')\n",
    "else:\n",
    "\tprint('Probably different distributions')"
   ]
  },
  {
   "cell_type": "markdown",
   "metadata": {},
   "source": [
    "### Friedman Test\n",
    "\n",
    "Just for the sake of it I will compare data across all distributions"
   ]
  },
  {
   "cell_type": "code",
   "execution_count": 11,
   "metadata": {},
   "outputs": [
    {
     "name": "stdout",
     "output_type": "stream",
     "text": [
      "stat=11.472, p=0.043\n",
      "Probably different distributions\n"
     ]
    }
   ],
   "source": [
    "# Example of the Friedman Test\n",
    "#data_2014 = hypothesis_testing_df['tCH4_2014']\n",
    "data_2015 = hypothesis_testing_df['tCH4_2015']\n",
    "data_2016 = hypothesis_testing_df['tCH4_2016']\n",
    "data_2017 = hypothesis_testing_df['tCH4_2017']\n",
    "data_2018 = hypothesis_testing_df['tCH4_2018']\n",
    "\n",
    "stat, p = stats.friedmanchisquare(data_2015, data_2016, data_2017, data_2018, data_2019, data_2020)\n",
    "print('stat=%.3f, p=%.3f' % (stat, p))\n",
    "if p > 0.05:\n",
    "\tprint('Probably the same distribution')\n",
    "else:\n",
    "\tprint('Probably different distributions')"
   ]
  },
  {
   "cell_type": "markdown",
   "metadata": {},
   "source": [
    "#### Results.  \n",
    "\n",
    "Some distributions differ from one another.  Which those are have yet to be discovered.  For the sake of this analysis I will not attempt to identify them.  \n",
    "\n",
    "The statment that the distributions of the 2019 and 2020 data do not differ cannot differ.  That said we also cannot claim that the means are statistically equivalent as the data is not parametric.  \n",
    "\n"
   ]
  }
 ],
 "metadata": {
  "kernelspec": {
   "display_name": "venv",
   "language": "python",
   "name": "venv"
  },
  "language_info": {
   "codemirror_mode": {
    "name": "ipython",
    "version": 3
   },
   "file_extension": ".py",
   "mimetype": "text/x-python",
   "name": "python",
   "nbconvert_exporter": "python",
   "pygments_lexer": "ipython3",
   "version": "3.9.12"
  }
 },
 "nbformat": 4,
 "nbformat_minor": 2
}